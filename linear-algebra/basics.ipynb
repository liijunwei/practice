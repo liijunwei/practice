{
 "cells": [
  {
   "cell_type": "code",
   "execution_count": 1,
   "id": "d33aeac6-5def-493e-b8f6-3fc7d4fa75cb",
   "metadata": {},
   "outputs": [],
   "source": [
    "import numpy as np"
   ]
  },
  {
   "cell_type": "code",
   "execution_count": 2,
   "id": "d784cada-6727-4c30-af43-345abb241328",
   "metadata": {},
   "outputs": [
    {
     "name": "stdout",
     "output_type": "stream",
     "text": [
      "Defaulting to user installation because normal site-packages is not writeable\n",
      "Requirement already satisfied: scipy in /Users/lijunwei/Library/Python/3.8/lib/python/site-packages (1.10.1)\n",
      "Requirement already satisfied: matplotlib in /Users/lijunwei/Library/Python/3.8/lib/python/site-packages (3.7.4)\n",
      "Requirement already satisfied: sympy in /Users/lijunwei/Library/Python/3.8/lib/python/site-packages (1.12)\n",
      "Requirement already satisfied: numpy<1.27.0,>=1.19.5 in /Users/lijunwei/Library/Python/3.8/lib/python/site-packages (from scipy) (1.24.4)\n",
      "Requirement already satisfied: contourpy>=1.0.1 in /Users/lijunwei/Library/Python/3.8/lib/python/site-packages (from matplotlib) (1.1.1)\n",
      "Requirement already satisfied: cycler>=0.10 in /Users/lijunwei/Library/Python/3.8/lib/python/site-packages (from matplotlib) (0.12.1)\n",
      "Requirement already satisfied: fonttools>=4.22.0 in /Users/lijunwei/Library/Python/3.8/lib/python/site-packages (from matplotlib) (4.45.0)\n",
      "Requirement already satisfied: kiwisolver>=1.0.1 in /Users/lijunwei/Library/Python/3.8/lib/python/site-packages (from matplotlib) (1.4.5)\n",
      "Requirement already satisfied: packaging>=20.0 in /Users/lijunwei/Library/Python/3.8/lib/python/site-packages (from matplotlib) (23.2)\n",
      "Requirement already satisfied: pillow>=6.2.0 in /Users/lijunwei/Library/Python/3.8/lib/python/site-packages (from matplotlib) (10.1.0)\n",
      "Requirement already satisfied: pyparsing>=2.3.1 in /Users/lijunwei/Library/Python/3.8/lib/python/site-packages (from matplotlib) (3.1.1)\n",
      "Requirement already satisfied: python-dateutil>=2.7 in /Users/lijunwei/Library/Python/3.8/lib/python/site-packages (from matplotlib) (2.8.2)\n",
      "Requirement already satisfied: importlib-resources>=3.2.0 in /Users/lijunwei/Library/Python/3.8/lib/python/site-packages (from matplotlib) (6.1.1)\n",
      "Requirement already satisfied: mpmath>=0.19 in /Users/lijunwei/Library/Python/3.8/lib/python/site-packages (from sympy) (1.3.0)\n",
      "Requirement already satisfied: zipp>=3.1.0 in /Users/lijunwei/Library/Python/3.8/lib/python/site-packages (from importlib-resources>=3.2.0->matplotlib) (3.17.0)\n",
      "Requirement already satisfied: six>=1.5 in /Library/Developer/CommandLineTools/Library/Frameworks/Python3.framework/Versions/3.8/lib/python3.8/site-packages (from python-dateutil>=2.7->matplotlib) (1.15.0)\n"
     ]
    }
   ],
   "source": [
    "!pip3 install scipy matplotlib sympy"
   ]
  },
  {
   "cell_type": "code",
   "execution_count": 3,
   "id": "910a5458-d4a2-4059-b96e-d41df0072c4a",
   "metadata": {},
   "outputs": [],
   "source": [
    "import scipy.linalg as sla\n"
   ]
  },
  {
   "cell_type": "code",
   "execution_count": 4,
   "id": "115c0fa2-4a87-481e-a0c9-9919f99984bf",
   "metadata": {},
   "outputs": [
    {
     "data": {
      "image/png": "[encoded data removed]",
      "text/plain": [
       "<Figure size 640x480 with 1 Axes>"
      ]
     },
     "metadata": {},
     "output_type": "display_data"
    }
   ],
   "source": [
    "# %matplotlib inline\n",
    "import numpy as np\n",
    "import matplotlib.pyplot as plt\n",
    "\n",
    "x=np.linspace(-5,5,100)\n",
    "\n",
    "fig, ax = plt.subplots()\n",
    "ax.plot(x,(5-x)/3)\n",
    "ax.plot(x,(5+x)/2)\n",
    "\n",
    "ax.text(1,1.6,'$x_1+3x_2 = 5$')\n",
    "ax.text(-3,0.5,'$x_1-2x_2 = -5$')\n",
    "\n",
    "ax.set_xlim(-4,4)\n",
    "ax.set_ylim(-2,6)\n",
    "ax.axvline(color='k',linewidth = 1)\n",
    "ax.axhline(color='k',linewidth = 1)\n",
    "\n",
    "## This options specifies the ticks based the list of numbers provided.\n",
    "ax.set_xticks(list(range(-4,5)))\n",
    "ax.set_aspect('equal')\n",
    "ax.grid(True,ls=':')"
   ]
  },
  {
   "cell_type": "code",
   "execution_count": 5,
   "id": "1ac44d4e-9d59-4ffd-8888-dd5fc0969188",
   "metadata": {},
   "outputs": [
    {
     "name": "stdout",
     "output_type": "stream",
     "text": [
      "[[ 1 -1  1  3]\n",
      " [ 2  1  8 18]\n",
      " [ 4  2 -3 -2]]\n",
      "[[ 4.  2. -3. -2.]\n",
      " [ 2.  1.  8. 18.]\n",
      " [ 1. -1.  1.  3.]]\n",
      "[[ 1.  -1.   1.   3. ]\n",
      " [ 2.   1.   8.  18. ]\n",
      " [ 2.   1.  -1.5 -1. ]]\n",
      "[[ 1. -1.  1.  3.]\n",
      " [ 4. -1. 10. 24.]\n",
      " [ 4.  2. -3. -2.]]\n"
     ]
    }
   ],
   "source": [
    "# https://bvanderlei.github.io/jupyter-guide-to-linear-algebra/Gaussian_Elimination.html\n",
    "import numpy as np\n",
    "A=np.array([[1,-1,1,3],[2,1,8,18],[4,2,-3,-2]])\n",
    "\n",
    "def RowSwap(A,k,l):\n",
    "# =============================================================================\n",
    "#     A is a NumPy array.  RowSwap will return duplicate array with rows\n",
    "#     k and l swapped.\n",
    "# =============================================================================\n",
    "\n",
    "    # https://numpy.org/doc/stable/reference/generated/numpy.shape.html#numpy.shape\n",
    "    m, n = A.shape # shape of A is m rows by n columns\n",
    "    B = np.copy(A).astype('float64')\n",
    "        \n",
    "    for j in range(n):\n",
    "        temp = B[k][j]\n",
    "        B[k][j] = B[l][j]\n",
    "        B[l][j] = temp\n",
    "        \n",
    "    return B\n",
    "\n",
    "def RowScale(A,k,scale):\n",
    "# =============================================================================\n",
    "#     A is a NumPy array.  RowScale will return duplicate array with the\n",
    "#     entries of row k multiplied by scale.\n",
    "# =============================================================================\n",
    "    m, n = A.shape # A is m by n\n",
    "    B = np.copy(A).astype('float64')\n",
    "\n",
    "    for j in range(n):\n",
    "        B[k][j] *= scale\n",
    "        \n",
    "    return B\n",
    "\n",
    "# 将第k行乘以scale, 然后加到第l行上\n",
    "# l = k * scale\n",
    "def RowAdd(A,k,l,scale):\n",
    "# =============================================================================\n",
    "#     A is a numpy array.  RowAdd will return duplicate array with row\n",
    "#     l modifed.  The new values will be the old values of row l added to \n",
    "#     the values of row k, multiplied by scale.\n",
    "# =============================================================================\n",
    "    m, n = A.shape # A is m by n\n",
    "    B = np.copy(A).astype('float64')\n",
    "        \n",
    "    for j in range(n):\n",
    "        B[l][j] += B[k][j]*scale\n",
    "        \n",
    "    return B\n",
    "\n",
    "B1 = RowSwap(A,0,2)\n",
    "B2 = RowScale(A,2,0.5)\n",
    "B3 = RowAdd(A,0,1,2)\n",
    "\n",
    "print(A)\n",
    "print(B1)\n",
    "print(B2)\n",
    "print(B3)"
   ]
  },
  {
   "cell_type": "code",
   "execution_count": 6,
   "id": "dd2ab84a-0535-43f4-82b9-1a5e9a4f49c1",
   "metadata": {},
   "outputs": [
    {
     "name": "stdout",
     "output_type": "stream",
     "text": [
      "[[ 1. -1.  1.  3.]\n",
      " [ 0.  3.  6. 12.]\n",
      " [ 4.  2. -3. -2.]] \n",
      "\n",
      "[[  1.  -1.   1.   3.]\n",
      " [  0.   3.   6.  12.]\n",
      " [  0.   6.  -7. -14.]] \n",
      "\n",
      "[[  1.  -1.   1.   3.]\n",
      " [  0.   3.   6.  12.]\n",
      " [  0.   0. -19. -38.]] \n",
      "\n",
      "[[  1.  -1.   1.   3.]\n",
      " [  0.   1.   2.   4.]\n",
      " [  0.   0. -19. -38.]] \n",
      "\n",
      "[[ 1. -1.  1.  3.]\n",
      " [ 0.  1.  2.  4.]\n",
      " [-0. -0.  1.  2.]]\n"
     ]
    }
   ],
   "source": [
    "## Add -2 times row 0 to row 1\n",
    "A1 = RowAdd(A,0,1,-2)\n",
    "print(A1,'\\n')\n",
    "\n",
    "## Add -4 times row 0 to row 2\n",
    "A2 = RowAdd(A1,0,2,-4)\n",
    "print(A2,'\\n')\n",
    "\n",
    "## Add -2 times row 1 to row 2\n",
    "A3 = RowAdd(A2,1,2,-2)\n",
    "print(A3,'\\n')\n",
    "\n",
    "## Multiply row 1 by 1/3\n",
    "A4 = RowScale(A3,1,1.0/3)\n",
    "print(A4,'\\n')\n",
    "\n",
    "## Multiply row 2 by 1/19\n",
    "A5 = RowScale(A4,2,1.0/-19.)\n",
    "print(A5)\n"
   ]
  },
  {
   "cell_type": "code",
   "execution_count": 7,
   "id": "0d7919fc-fc65-42c8-a04b-681d6dd44dec",
   "metadata": {},
   "outputs": [
    {
     "name": "stdout",
     "output_type": "stream",
     "text": [
      "[[-7  1  5 -1]\n",
      " [-2 -4  4  5]\n",
      " [ 3  4  1 -1]]\n",
      "[[ 1.         -0.14285714 -0.71428571  0.14285714]\n",
      " [-2.         -4.          4.          5.        ]\n",
      " [ 3.          4.          1.         -1.        ]]\n",
      "[[ 1.         -0.14285714 -0.71428571  0.14285714]\n",
      " [ 0.         -4.28571429  2.57142857  5.28571429]\n",
      " [ 3.          4.          1.         -1.        ]]\n",
      "[[ 1.         -0.14285714 -0.71428571  0.14285714]\n",
      " [ 0.         -4.28571429  2.57142857  5.28571429]\n",
      " [ 0.          4.42857143  3.14285714 -1.42857143]]\n",
      "[[ 1.         -0.14285714 -0.71428571  0.14285714]\n",
      " [-0.          1.         -0.6        -1.23333333]\n",
      " [ 0.          4.42857143  3.14285714 -1.42857143]]\n",
      "[[ 1.         -0.14285714 -0.71428571  0.14285714]\n",
      " [-0.          1.         -0.6        -1.23333333]\n",
      " [ 0.          0.          5.8         4.03333333]]\n",
      "[[ 1.         -0.14285714 -0.71428571  0.14285714]\n",
      " [-0.          1.         -0.6        -1.23333333]\n",
      " [ 0.          0.          1.          0.6954023 ]]\n"
     ]
    }
   ],
   "source": [
    "R = np.array([\n",
    "    [-7 , 1,  5, -1],\n",
    "    [-2 ,-4,  4,  5],\n",
    "    [ 3,  4 , 1, -1]\n",
    "])\n",
    "print(R)\n",
    "\n",
    "R1 = RowScale(R,0,1.0/R[0][0])\n",
    "print(R1)\n",
    "\n",
    "R2 = RowAdd(R1,0,1,-R[1][0])\n",
    "print(R2)\n",
    "\n",
    "R3 = RowAdd(R2,0,2,-R2[2][0])\n",
    "print(R3)\n",
    "\n",
    "R4 = RowScale(R3,1,1.0/R3[1][1])\n",
    "print(R4)\n",
    "\n",
    "R5 = RowAdd(R4,1,2,-R4[2][1])\n",
    "print(R5)\n",
    "\n",
    "R6 = RowScale(R5,2,1.0/R5[2][2])\n",
    "print(R6)"
   ]
  },
  {
   "cell_type": "code",
   "execution_count": 8,
   "id": "c1ab0c2e-afe5-42a6-9ea0-8d05b5469263",
   "metadata": {},
   "outputs": [
    {
     "name": "stdout",
     "output_type": "stream",
     "text": [
      "[[5 4 0]\n",
      " [1 8 3]\n",
      " [6 7 2]]\n",
      "\n",
      "\n",
      "[[5 1 6]\n",
      " [4 8 7]\n",
      " [0 3 2]]\n"
     ]
    }
   ],
   "source": [
    "A = np.array([[5, 4, 0],[1, 8, 3],[6, 7, 2]])\n",
    "\n",
    "## Note that the tranpose method must be called with (), the same as a function with no arguments.\n",
    "A_T = A.transpose()\n",
    "\n",
    "print(A)\n",
    "print('\\n')\n",
    "print(A_T)"
   ]
  },
  {
   "cell_type": "code",
   "execution_count": 9,
   "id": "dd5dac2d-d79b-48e3-9ac6-ebf6cfaf89f0",
   "metadata": {},
   "outputs": [
    {
     "name": "stdout",
     "output_type": "stream",
     "text": [
      "[[1. 0. 0. 0. 0. 0. 0. 0. 0. 0.]\n",
      " [0. 1. 0. 0. 0. 0. 0. 0. 0. 0.]\n",
      " [0. 0. 1. 0. 0. 0. 0. 0. 0. 0.]\n",
      " [0. 0. 0. 1. 0. 0. 0. 0. 0. 0.]\n",
      " [0. 0. 0. 0. 1. 0. 0. 0. 0. 0.]\n",
      " [0. 0. 0. 0. 0. 1. 0. 0. 0. 0.]\n",
      " [0. 0. 0. 0. 0. 0. 1. 0. 0. 0.]\n",
      " [0. 0. 0. 0. 0. 0. 0. 1. 0. 0.]\n",
      " [0. 0. 0. 0. 0. 0. 0. 0. 1. 0.]\n",
      " [0. 0. 0. 0. 0. 0. 0. 0. 0. 1.]]\n"
     ]
    }
   ],
   "source": [
    "I5 = np.eye(10)\n",
    "print(I5)"
   ]
  },
  {
   "cell_type": "code",
   "execution_count": 10,
   "id": "fe4a0765-1b9f-41f8-9cf8-5c0d93a459c7",
   "metadata": {},
   "outputs": [
    {
     "name": "stdout",
     "output_type": "stream",
     "text": [
      "[[ 1  3 -2]\n",
      " [ 5  2  0]\n",
      " [ 4  2 -1]\n",
      " [ 2  2  0]] \n",
      "\n",
      "[[ 0  6  2  6]\n",
      " [-1  1 -3  4]\n",
      " [ 0  2  4  8]] \n",
      "\n",
      "[[ 2]\n",
      " [-3]\n",
      " [ 4]] \n",
      "\n",
      "[[ 2  6]\n",
      " [-3  4]\n",
      " [ 4  8]] \n",
      "\n",
      "[[-15]\n",
      " [  4]\n",
      " [ -2]\n",
      " [ -2]]\n"
     ]
    }
   ],
   "source": [
    "P = np.array([[1, 3, -2],[5, 2, 0],[4, 2, -1],[2, 2, 0]])\n",
    "C = np.array([[0, 6, 2, 6],[-1, 1, -3, 4],[0, 2, 4, 8]])\n",
    "X = C[0:3,2:3] # 左包含，右不包含\n",
    "print(P,'\\n')\n",
    "print(C,'\\n')\n",
    "print(C[0:3,2:3],'\\n') # 左包含，右不包含\n",
    "print(C[0:3,2:4],'\\n') # 左包含，右不包含\n",
    "print(P@X) # In NumPy, the @ operator means matrix multiplication"
   ]
  },
  {
   "cell_type": "code",
   "execution_count": 11,
   "id": "68e738d6-2ffc-4ea6-a91a-62934704823d",
   "metadata": {},
   "outputs": [
    {
     "name": "stdout",
     "output_type": "stream",
     "text": [
      "[[0.06 0.14]\n",
      " [0.07 0.27]]\n"
     ]
    }
   ],
   "source": [
    "A = np.array([[0.2,0.2],[0.1,0.5]])\n",
    "print(A@A)"
   ]
  },
  {
   "cell_type": "code",
   "execution_count": 12,
   "id": "aabd995b-d19a-4274-b5f4-b756626a6672",
   "metadata": {},
   "outputs": [
    {
     "name": "stdout",
     "output_type": "stream",
     "text": [
      "[[-3  0  1]\n",
      " [-5  0  4]\n",
      " [ 1 -1 -4]]\n",
      "[[-2  1  2]\n",
      " [-4  2 -3]\n",
      " [ 4 -5 -5]]\n",
      "[[ 10  -8 -11]\n",
      " [ 26 -25 -30]\n",
      " [-14  19  25]]\n",
      "\n",
      "\n",
      "[[ 3 -2 -6]\n",
      " [-1  3 16]\n",
      " [ 8  5  4]]\n"
     ]
    }
   ],
   "source": [
    "A = np.random.randint(-5,5,size=(3,3))\n",
    "B = np.random.randint(-5,5,size=(3,3))\n",
    "\n",
    "print(A)\n",
    "print(B)\n",
    "print(A@B)\n",
    "print('\\n')\n",
    "print(B@A)\n"
   ]
  },
  {
   "cell_type": "code",
   "execution_count": 13,
   "id": "d62979fd-68ef-4cf2-aa15-a2538d8b4103",
   "metadata": {},
   "outputs": [
    {
     "name": "stdout",
     "output_type": "stream",
     "text": [
      "[[0.2 0.2]\n",
      " [0.1 0.5]]\n",
      "0.7\n",
      "[[0.34782609]]\n"
     ]
    }
   ],
   "source": [
    "A = np.array([[0.2,0.2],[0.1,0.5]])\n",
    "print(A)\n",
    "# print(A@A)\n",
    "\n",
    "r = np.array([[1],[1]])\n",
    "r_T = r.transpose()\n",
    "\n",
    "tr_A = np.diagonal(A).sum()\n",
    "print(tr_A)\n",
    "KC = (tr_A - r_T@A@A@r) / (1 - r_T@A@A@r)\n",
    "print(KC)\n"
   ]
  },
  {
   "cell_type": "code",
   "execution_count": 14,
   "id": "cc03000d-3627-4f49-a041-56352838d60c",
   "metadata": {},
   "outputs": [
    {
     "name": "stdout",
     "output_type": "stream",
     "text": [
      "[[0.3 0.1]\n",
      " [0.2 0.4]]\n",
      "0.7\n",
      "[[0.4]]\n"
     ]
    }
   ],
   "source": [
    "A = np.array([[0.3,0.1],[0.2,0.4]])\n",
    "print(A)\n",
    "# print(A@A)\n",
    "\n",
    "r = np.array([[1],[1]])\n",
    "r_T = r.transpose()\n",
    "\n",
    "tr_A = np.diagonal(A).sum()\n",
    "print(tr_A)\n",
    "KC = (tr_A - r_T@A@A@r) / (1 - r_T@A@A@r)\n",
    "print(KC)\n"
   ]
  },
  {
   "cell_type": "code",
   "execution_count": 15,
   "id": "0fb75a8a-ac97-4ae4-8870-70573db851d5",
   "metadata": {},
   "outputs": [
    {
     "name": "stdout",
     "output_type": "stream",
     "text": [
      "[[2. 4. 4. 4.]\n",
      " [0. 2. 1. 2.]\n",
      " [0. 0. 1. 1.]\n",
      " [0. 0. 0. 0.]]\n"
     ]
    }
   ],
   "source": [
    "from numpy import array\n",
    "from scipy.linalg import lu\n",
    "\n",
    "a = array([\n",
    "    [2.,4.,4.,4.],\n",
    "    [1.,2.,3.,3.],\n",
    "    [1.,2.,2.,2.],\n",
    "    [1.,4.,3.,4.]\n",
    "])\n",
    "\n",
    "pl, u = lu(a, permute_l=True)\n",
    "# print(pl)\n",
    "print(u)"
   ]
  },
  {
   "cell_type": "code",
   "execution_count": 16,
   "id": "5cb2a0ea-4282-4e37-a1b0-53ec03fe04e1",
   "metadata": {},
   "outputs": [
    {
     "name": "stdout",
     "output_type": "stream",
     "text": [
      "[[ 2.   8.   5.   9. ]\n",
      " [ 0.  -3.  -1.5  4.5]\n",
      " [ 0.   0.   0.   0. ]]\n"
     ]
    }
   ],
   "source": [
    "from numpy import array\n",
    "from scipy.linalg import lu\n",
    "\n",
    "a = array([\n",
    "    [1,5,3,3],\n",
    "    [2,8,5,9],\n",
    "    [1,1,1,9],\n",
    "])\n",
    "\n",
    "pl, u = lu(a, permute_l=True)\n",
    "# print(pl)\n",
    "print(u)"
   ]
  },
  {
   "cell_type": "code",
   "execution_count": 17,
   "id": "b1095806-ae28-4d77-9716-76004f6f35d2",
   "metadata": {},
   "outputs": [
    {
     "name": "stdout",
     "output_type": "stream",
     "text": [
      "[[3. 6. 9.]\n",
      " [0. 0. 0.]\n",
      " [0. 0. 0.]]\n"
     ]
    }
   ],
   "source": [
    "from numpy import array\n",
    "from scipy.linalg import lu\n",
    "\n",
    "a = array([\n",
    "    [1,2,3],\n",
    "    [2,4,6],\n",
    "    [3,6,9],\n",
    "])\n",
    "\n",
    "pl, u = lu(a, permute_l=True)\n",
    "# print(pl)\n",
    "print(u)"
   ]
  },
  {
   "cell_type": "code",
   "execution_count": 18,
   "id": "5ada2fd2-b79a-4518-9498-4fea04c37eea",
   "metadata": {},
   "outputs": [
    {
     "name": "stdout",
     "output_type": "stream",
     "text": [
      "[[1.  2.  3.  5. ]\n",
      " [0.  8.  3.  3. ]\n",
      " [0.  0.  2.5 2.5]]\n"
     ]
    }
   ],
   "source": [
    "from numpy import array\n",
    "from scipy.linalg import lu\n",
    "\n",
    "a = array([\n",
    "    [1,2,3,5],\n",
    "    [1,6,7,9],\n",
    "    [1,10,6,8],\n",
    "])\n",
    "\n",
    "pl, u = lu(a, permute_l=True)\n",
    "# print(pl)\n",
    "print(u)"
   ]
  },
  {
   "cell_type": "code",
   "execution_count": 19,
   "id": "9c5673fe-43f8-423e-ae3f-95f432edf524",
   "metadata": {},
   "outputs": [
    {
     "name": "stdout",
     "output_type": "stream",
     "text": [
      "[[ 2.   1.   4.   1. ]\n",
      " [ 0.  -4.5 -3.  -1.5]\n",
      " [ 0.   0.   0.   0. ]\n",
      " [ 0.   0.   0.   0. ]]\n"
     ]
    }
   ],
   "source": [
    "a = array([\n",
    "    [1,2,3,1],\n",
    "    [1,-4,-1,-1],\n",
    "    [2,1,4,1],\n",
    "    [1,-1,1,0],\n",
    "])\n",
    "\n",
    "pl, u = lu(a, permute_l=True)\n",
    "# print(pl)\n",
    "print(u)"
   ]
  },
  {
   "cell_type": "code",
   "execution_count": 20,
   "id": "564ebb04-2909-4e7b-b244-e834582369a3",
   "metadata": {},
   "outputs": [
    {
     "name": "stdout",
     "output_type": "stream",
     "text": [
      "Matrix([[1, 0, -5], [0, 1, 3], [0, 0, 0]]) (0, 1)\n"
     ]
    }
   ],
   "source": [
    "import sympy as sp\n",
    "\n",
    "m = sp.Matrix([[1,2,1],\n",
    "           [-2,-3,1],\n",
    "           [3,5,0]])\n",
    "\n",
    "m_rref, pivots = m.rref() # Compute reduced row echelon form (rref).\n",
    "\n",
    "print(m_rref, pivots)"
   ]
  },
  {
   "cell_type": "code",
   "execution_count": 22,
   "id": "76921d57-a4df-4a55-baf3-c57ee9a40434",
   "metadata": {},
   "outputs": [
    {
     "name": "stdout",
     "output_type": "stream",
     "text": [
      "[[-7  1  5 -1]\n",
      " [-2 -4  4  5]\n",
      " [ 3  4  1 -1]]\n",
      "[[-2 -4  4  5]\n",
      " [-7  1  5 -1]\n",
      " [ 3  4  1 -1]]\n",
      "[[ -7   1   5  -1]\n",
      " [ -6 -12  12  15]\n",
      " [  3   4   1  -1]]\n",
      "[[ -7   1   5  -1]\n",
      " [-23  -1  19   2]\n",
      " [  3   4   1  -1]]\n"
     ]
    }
   ],
   "source": [
    "# 初等矩阵\n",
    "\n",
    "from numpy import array\n",
    "\n",
    "# 置换阵\n",
    "m_row_swap = array([\n",
    "    [0,1,0],\n",
    "    [1,0,0],\n",
    "    [0,0,1],\n",
    "])\n",
    "\n",
    "m_row_scale = array([\n",
    "    [1,0,0],\n",
    "    [0,3,0],\n",
    "    [0,0,1],\n",
    "])\n",
    "\n",
    "m_row_add = array([\n",
    "    [1,0,0],\n",
    "    [3,1,0],\n",
    "    [0,0,1],\n",
    "])\n",
    "\n",
    "R = array([\n",
    "    [-7 , 1,  5, -1],\n",
    "    [-2 ,-4,  4,  5],\n",
    "    [ 3,  4 , 1, -1]\n",
    "])\n",
    "print(R)\n",
    "\n",
    "print(m_row_swap@R)  # 左乘置换阵，相当于行交换操作\n",
    "print(m_row_scale@R) # 左乘数乘阵，相当于行数乘操作\n",
    "print(m_row_add@R)   # 左乘倍加阵，相当于倍加操作"
   ]
  },
  {
   "cell_type": "code",
   "execution_count": 35,
   "id": "40fb0262-236b-44c7-a25d-00efdbcabe96",
   "metadata": {},
   "outputs": [
    {
     "name": "stdout",
     "output_type": "stream",
     "text": [
      "[[1 1 2]\n",
      " [1 2 3]\n",
      " [2 4 5]]\n",
      "[[ 2. -3.  1.]\n",
      " [-1. -1.  1.]\n",
      " [ 0.  2. -1.]]\n",
      "[[1 3 5]\n",
      " [2 4 6]\n",
      " [1 4 9]]\n",
      "[[-3.    1.75  0.5 ]\n",
      " [ 3.   -1.   -1.  ]\n",
      " [-1.    0.25  0.5 ]]\n",
      "[[2 0 0]\n",
      " [0 3 0]\n",
      " [0 0 4]]\n",
      "[[0.5        0.         0.        ]\n",
      " [0.         0.33333333 0.        ]\n",
      " [0.         0.         0.25      ]]\n",
      "3\n",
      "3\n",
      "3\n"
     ]
    }
   ],
   "source": [
    "from numpy import array\n",
    "from numpy import linalg\n",
    "\n",
    "def print_matrix_and_inv(a):\n",
    "    print(a)\n",
    "    print(linalg.inv(a))\n",
    "    \n",
    "\n",
    "A = array([\n",
    "    [1,1,2],\n",
    "    [1,2,3],\n",
    "    [2,4,5],\n",
    "])\n",
    "print_matrix_and_inv(A)\n",
    "\n",
    "B = array([[1,3,5],[2,4,6],[1,4,9]])\n",
    "print_matrix_and_inv(B)\n",
    "\n",
    "C = array([[2,0,0],[0,3,0],[0,0,4]])\n",
    "print_matrix_and_inv(C)\n",
    "\n",
    "print(linalg.matrix_rank(A))\n",
    "print(linalg.matrix_rank(B))\n",
    "print(linalg.matrix_rank(C))"
   ]
  },
  {
   "cell_type": "code",
   "execution_count": 34,
   "id": "f7fa9320-0257-49e5-b83d-b97145e2ce7c",
   "metadata": {},
   "outputs": [
    {
     "ename": "LinAlgError",
     "evalue": "Last 2 dimensions of the array must be square",
     "output_type": "error",
     "traceback": [
      "\u001b[0;31m---------------------------------------------------------------------------\u001b[0m",
      "\u001b[0;31mLinAlgError\u001b[0m                               Traceback (most recent call last)",
      "Cell \u001b[0;32mIn[34], line 8\u001b[0m\n\u001b[1;32m      2\u001b[0m \u001b[38;5;28;01mfrom\u001b[39;00m \u001b[38;5;21;01mnumpy\u001b[39;00m \u001b[38;5;28;01mimport\u001b[39;00m linalg\n\u001b[1;32m      4\u001b[0m A \u001b[38;5;241m=\u001b[39m array([\n\u001b[1;32m      5\u001b[0m     [\u001b[38;5;241m1\u001b[39m,\u001b[38;5;241m1\u001b[39m,\u001b[38;5;241m2\u001b[39m],\n\u001b[1;32m      6\u001b[0m     [\u001b[38;5;241m1\u001b[39m,\u001b[38;5;241m2\u001b[39m,\u001b[38;5;241m3\u001b[39m],\n\u001b[1;32m      7\u001b[0m ])\n\u001b[0;32m----> 8\u001b[0m \u001b[38;5;28mprint\u001b[39m(\u001b[43mlinalg\u001b[49m\u001b[38;5;241;43m.\u001b[39;49m\u001b[43minv\u001b[49m\u001b[43m(\u001b[49m\u001b[43mA\u001b[49m\u001b[43m)\u001b[49m)\n\u001b[1;32m      9\u001b[0m \u001b[38;5;28mprint\u001b[39m(linalg\u001b[38;5;241m.\u001b[39mmatrix_rank(A))\n",
      "File \u001b[0;32m<__array_function__ internals>:200\u001b[0m, in \u001b[0;36minv\u001b[0;34m(*args, **kwargs)\u001b[0m\n",
      "File \u001b[0;32m~/Library/Python/3.8/lib/python/site-packages/numpy/linalg/linalg.py:533\u001b[0m, in \u001b[0;36minv\u001b[0;34m(a)\u001b[0m\n\u001b[1;32m    531\u001b[0m a, wrap \u001b[38;5;241m=\u001b[39m _makearray(a)\n\u001b[1;32m    532\u001b[0m _assert_stacked_2d(a)\n\u001b[0;32m--> 533\u001b[0m \u001b[43m_assert_stacked_square\u001b[49m\u001b[43m(\u001b[49m\u001b[43ma\u001b[49m\u001b[43m)\u001b[49m\n\u001b[1;32m    534\u001b[0m t, result_t \u001b[38;5;241m=\u001b[39m _commonType(a)\n\u001b[1;32m    536\u001b[0m signature \u001b[38;5;241m=\u001b[39m \u001b[38;5;124m'\u001b[39m\u001b[38;5;124mD->D\u001b[39m\u001b[38;5;124m'\u001b[39m \u001b[38;5;28;01mif\u001b[39;00m isComplexType(t) \u001b[38;5;28;01melse\u001b[39;00m \u001b[38;5;124m'\u001b[39m\u001b[38;5;124md->d\u001b[39m\u001b[38;5;124m'\u001b[39m\n",
      "File \u001b[0;32m~/Library/Python/3.8/lib/python/site-packages/numpy/linalg/linalg.py:190\u001b[0m, in \u001b[0;36m_assert_stacked_square\u001b[0;34m(*arrays)\u001b[0m\n\u001b[1;32m    188\u001b[0m m, n \u001b[38;5;241m=\u001b[39m a\u001b[38;5;241m.\u001b[39mshape[\u001b[38;5;241m-\u001b[39m\u001b[38;5;241m2\u001b[39m:]\n\u001b[1;32m    189\u001b[0m \u001b[38;5;28;01mif\u001b[39;00m m \u001b[38;5;241m!=\u001b[39m n:\n\u001b[0;32m--> 190\u001b[0m     \u001b[38;5;28;01mraise\u001b[39;00m LinAlgError(\u001b[38;5;124m'\u001b[39m\u001b[38;5;124mLast 2 dimensions of the array must be square\u001b[39m\u001b[38;5;124m'\u001b[39m)\n",
      "\u001b[0;31mLinAlgError\u001b[0m: Last 2 dimensions of the array must be square"
     ]
    }
   ],
   "source": [
    "from numpy import array\n",
    "from numpy import linalg\n",
    "\n",
    "A = array([\n",
    "    [1,1,2],\n",
    "    [1,2,3],\n",
    "])\n",
    "print(linalg.inv(A))\n"
   ]
  },
  {
   "cell_type": "code",
   "execution_count": null,
   "id": "98058cc7-df61-4414-bbf3-c7fccd566f86",
   "metadata": {},
   "outputs": [],
   "source": []
  }
 ],
 "metadata": {
  "kernelspec": {
   "display_name": "Python 3 (ipykernel)",
   "language": "python",
   "name": "python3"
  },
  "language_info": {
   "codemirror_mode": {
    "name": "ipython",
    "version": 3
   },
   "file_extension": ".py",
   "mimetype": "text/x-python",
   "name": "python",
   "nbconvert_exporter": "python",
   "pygments_lexer": "ipython3",
   "version": "3.8.9"
  }
 },
 "nbformat": 4,
 "nbformat_minor": 5
}
